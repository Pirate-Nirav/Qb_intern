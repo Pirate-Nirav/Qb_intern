{
 "cells": [
  {
   "cell_type": "markdown",
   "id": "a83f00af",
   "metadata": {},
   "source": [
    "findall : Return a list containing all the values\n",
    "\n",
    "search : return a match object of there is a match anywhere in a string \n",
    "\n",
    "split : Return a list where the string has been split at each match\n",
    "\n",
    "sub : Replace one or many matches with string \n",
    "\n"
   ]
  },
  {
   "cell_type": "code",
   "execution_count": 1,
   "id": "314aec33",
   "metadata": {},
   "outputs": [],
   "source": [
    "import re"
   ]
  },
  {
   "cell_type": "code",
   "execution_count": 2,
   "id": "83a18987",
   "metadata": {},
   "outputs": [
    {
     "data": {
      "text/plain": [
       "'Hello there how are you?? I was going to print. \"Hello world\" '"
      ]
     },
     "execution_count": 2,
     "metadata": {},
     "output_type": "execute_result"
    }
   ],
   "source": [
    "quote = \"Hello there how are you?? I was going to print. \\\"Hello world\\\" \"\n",
    "quote"
   ]
  },
  {
   "cell_type": "code",
   "execution_count": 3,
   "id": "8b13e25b",
   "metadata": {},
   "outputs": [
    {
     "data": {
      "text/plain": [
       "'Hello'"
      ]
     },
     "execution_count": 3,
     "metadata": {},
     "output_type": "execute_result"
    }
   ],
   "source": [
    "re.search(\"Hello\",quote).group()"
   ]
  },
  {
   "cell_type": "code",
   "execution_count": 4,
   "id": "4f70d61f",
   "metadata": {},
   "outputs": [
    {
     "data": {
      "text/plain": [
       "['', ' there how are you?? I was going to print. \"', ' world\" ']"
      ]
     },
     "execution_count": 4,
     "metadata": {},
     "output_type": "execute_result"
    }
   ],
   "source": [
    "re.split(\"Hello\",quote)"
   ]
  },
  {
   "cell_type": "code",
   "execution_count": 5,
   "id": "9ffd389e",
   "metadata": {},
   "outputs": [
    {
     "name": "stderr",
     "output_type": "stream",
     "text": [
      "<>:1: SyntaxWarning: invalid escape sequence '\\.'\n",
      "<>:1: SyntaxWarning: invalid escape sequence '\\.'\n",
      "C:\\Users\\Nirav\\AppData\\Local\\Temp\\ipykernel_10596\\433656596.py:1: SyntaxWarning: invalid escape sequence '\\.'\n",
      "  re.split(\"\\.\",quote)\n"
     ]
    },
    {
     "data": {
      "text/plain": [
       "['Hello there how are you?? I was going to print', ' \"Hello world\" ']"
      ]
     },
     "execution_count": 5,
     "metadata": {},
     "output_type": "execute_result"
    }
   ],
   "source": [
    "re.split(\"\\.\",quote)"
   ]
  },
  {
   "cell_type": "code",
   "execution_count": 6,
   "id": "fca347f4",
   "metadata": {},
   "outputs": [
    {
     "data": {
      "text/plain": [
       "'Hello there how are you?? I was coming to print. \"Hello world\" '"
      ]
     },
     "execution_count": 6,
     "metadata": {},
     "output_type": "execute_result"
    }
   ],
   "source": [
    "re.sub(\"going\",\"coming\",quote)"
   ]
  },
  {
   "cell_type": "markdown",
   "id": "0df560f7",
   "metadata": {},
   "source": [
    "Character\tDescription\tExample\n",
    "\n",
    "[]\tA set of characters\t\"[a-m]\"\t\n",
    "\n",
    "\\\tSignals a special sequence (can also be used to escape special characters)\t\"\\d\"\t\n",
    "\n",
    ".\tAny character (except newline character)\t\"he..o\"\t\n",
    "\n",
    "^\tStarts with\t\"^hello\"\t\n",
    "\n",
    "$\tEnds with\t\"planet$\"\t\n",
    "*\tZero or more occurrences\t\"he.*o\"\t\n",
    "\n",
    "+\tOne or more occurrences\t\"he.+o\"\t\n",
    "\n",
    "?\tZero or one occurrences\t\"he.?o\"\t\n",
    "\n",
    "{}\tExactly the specified number of occurrences\t\"he.{2}o\"\t\n",
    "\n",
    "|\tEither or\t\"falls|stays\"\t\n",
    "\n",
    "()\tCapture and group\t "
   ]
  },
  {
   "cell_type": "code",
   "execution_count": 7,
   "id": "b8ddacde",
   "metadata": {},
   "outputs": [
    {
     "name": "stdout",
     "output_type": "stream",
     "text": [
      "['Geeks', 'Geeks', 'geeks']\n"
     ]
    }
   ],
   "source": [
    "print(re.findall(r'[Gg]eeks', 'GeeksforGeeks: \\\n",
    "                 A computer science portal for geeks'))"
   ]
  },
  {
   "cell_type": "code",
   "execution_count": 8,
   "id": "453f9e57",
   "metadata": {},
   "outputs": [
    {
     "name": "stdout",
     "output_type": "stream",
     "text": [
      "Range <re.Match object; span=(0, 1), match='x'>\n"
     ]
    }
   ],
   "source": [
    "print('Range',re.search(r'[a-zA-Z]', 'x'))"
   ]
  },
  {
   "cell_type": "code",
   "execution_count": 9,
   "id": "69ae3d81",
   "metadata": {},
   "outputs": [
    {
     "name": "stdout",
     "output_type": "stream",
     "text": [
      "Geeks: <re.Match object; span=(0, 5), match='Geeks'>\n",
      "GeeksforGeeks: None\n"
     ]
    }
   ],
   "source": [
    "print('Geeks:', re.search(r'\\bGeeks\\b', 'Geeks'))\n",
    "print('GeeksforGeeks:', re.search(r'\\bGeeks\\b', 'GeeksforGeeks'))"
   ]
  },
  {
   "cell_type": "code",
   "execution_count": 24,
   "id": "a7008612",
   "metadata": {},
   "outputs": [
    {
     "name": "stdout",
     "output_type": "stream",
     "text": [
      "test@example.com: VALID\n",
      "dhaval.vala@quantumbot.in: VALID\n",
      "user@domain,com: Invalid\n"
     ]
    }
   ],
   "source": [
    "def email_vertfication(email):\n",
    "    email_pattern = r\"^[a-zA-Z0-9._%+-]+@[a-zA-Z0-9]+\\.[a-zA-Z]{2,}$\"\n",
    "    return bool(re.match(email_pattern, email))\n",
    "\n",
    "email_list = [\"test@example.com\",\"dhaval.vala@quantumbot.in\",\"user@domain,com\"]\n",
    "\n",
    "for i in email_list:\n",
    "    print(f\"{i}: {'VALID' if email_vertfication(i) else 'Invalid'}\")"
   ]
  },
  {
   "cell_type": "code",
   "execution_count": 29,
   "id": "8beee06c",
   "metadata": {},
   "outputs": [
    {
     "name": "stdout",
     "output_type": "stream",
     "text": [
      "Valid\n"
     ]
    }
   ],
   "source": [
    "number_pattern = r\"^[0-9]{10,}$\"\n",
    "x = re.match(number_pattern, '9999767655')\n",
    "\n",
    "if x: \n",
    "    print(\"Valid\")\n",
    "else:\n",
    "    print(\"Invalid\")\n"
   ]
  },
  {
   "cell_type": "code",
   "execution_count": 31,
   "id": "46c4a260",
   "metadata": {},
   "outputs": [
    {
     "name": "stdout",
     "output_type": "stream",
     "text": [
      "The price of paint is 5.00\n"
     ]
    }
   ],
   "source": [
    "price = 5 \n",
    "print(f\"The price of paint is {price:.2f}\")"
   ]
  },
  {
   "cell_type": "code",
   "execution_count": 36,
   "id": "1e05548d",
   "metadata": {},
   "outputs": [
    {
     "name": "stdout",
     "output_type": "stream",
     "text": [
      "['you', 'you']\n"
     ]
    }
   ],
   "source": [
    "string = \"This is the string that will be use for the regex if you want to use you can use it without hesitation\"\n",
    "x= re.findall(\"you\", string)\n",
    "print(x)"
   ]
  },
  {
   "cell_type": "code",
   "execution_count": null,
   "id": "6f666f3a",
   "metadata": {},
   "outputs": [
    {
     "name": "stdout",
     "output_type": "stream",
     "text": [
      "Whitespace found at index 4\n"
     ]
    },
    {
     "name": "stderr",
     "output_type": "stream",
     "text": [
      "<>:2: SyntaxWarning: invalid escape sequence '\\s'\n",
      "<>:2: SyntaxWarning: invalid escape sequence '\\s'\n",
      "C:\\Users\\Nirav\\AppData\\Local\\Temp\\ipykernel_10596\\2836913841.py:2: SyntaxWarning: invalid escape sequence '\\s'\n",
      "  match = re.search(\"\\s\", string)\n"
     ]
    }
   ],
   "source": [
    "string = \"This is the string that will be use for the regex if you want to use you can use it without hesitation\"\n",
    "match = re.search(\"\\s\", string) #this help to get where the first withspace appear\n",
    "\n",
    "if match:\n",
    "    print(f\"Whitespace found at index {match.start()}\")\n",
    "else:\n",
    "    print(\"No whitespace found\")\n",
    "\n"
   ]
  },
  {
   "cell_type": "code",
   "execution_count": 51,
   "id": "72a965ed",
   "metadata": {},
   "outputs": [
    {
     "name": "stdout",
     "output_type": "stream",
     "text": [
      "program\n",
      "gimroP\n"
     ]
    }
   ],
   "source": [
    "s = \"programming\"\n",
    "r = s[:-4]\n",
    "print(r)\n",
    " \n",
    "s = \"Programming\"\n",
    "result = s[::-2]\n",
    "print(result)"
   ]
  },
  {
   "cell_type": "code",
   "execution_count": null,
   "id": "570a2d84",
   "metadata": {},
   "outputs": [
    {
     "name": "stdout",
     "output_type": "stream",
     "text": [
      "59\n"
     ]
    }
   ],
   "source": [
    "x = '5'\n",
    "y = 9\n",
    "print(x+ str(y))      "
   ]
  },
  {
   "cell_type": "code",
   "execution_count": 1,
   "id": "a602689f",
   "metadata": {},
   "outputs": [],
   "source": [
    "f=open(\"requirements\")\n"
   ]
  },
  {
   "cell_type": "code",
   "execution_count": null,
   "id": "1b8fc4b7",
   "metadata": {},
   "outputs": [],
   "source": []
  }
 ],
 "metadata": {
  "kernelspec": {
   "display_name": "venv",
   "language": "python",
   "name": "python3"
  },
  "language_info": {
   "codemirror_mode": {
    "name": "ipython",
    "version": 3
   },
   "file_extension": ".py",
   "mimetype": "text/x-python",
   "name": "python",
   "nbconvert_exporter": "python",
   "pygments_lexer": "ipython3",
   "version": "3.13.4"
  }
 },
 "nbformat": 4,
 "nbformat_minor": 5
}
