{
 "cells": [
  {
   "cell_type": "code",
   "execution_count": 1,
   "id": "4af0bf25",
   "metadata": {},
   "outputs": [
    {
     "name": "stdout",
     "output_type": "stream",
     "text": [
      "Hello World\n"
     ]
    }
   ],
   "source": [
    "print(\"Hello World\")"
   ]
  },
  {
   "cell_type": "code",
   "execution_count": 2,
   "id": "913e37cc",
   "metadata": {},
   "outputs": [
    {
     "name": "stdout",
     "output_type": "stream",
     "text": [
      "Welcome .\n"
     ]
    }
   ],
   "source": [
    "user = input(\"Enter your name:\")\n",
    "print(f\"Welcome {user}.\")"
   ]
  },
  {
   "cell_type": "code",
   "execution_count": 3,
   "id": "1c419b11",
   "metadata": {},
   "outputs": [
    {
     "data": {
      "text/plain": [
       "24"
      ]
     },
     "execution_count": 3,
     "metadata": {},
     "output_type": "execute_result"
    }
   ],
   "source": [
    "def add(a,b):\n",
    "    return a+b\n",
    "\n",
    "num1 = int(input(\"Enter number:\"))\n",
    "num2 = int(input(\"Enter number2:\"))\n",
    "\n",
    "add(num1,num2)"
   ]
  },
  {
   "cell_type": "code",
   "execution_count": 4,
   "id": "6430e83b",
   "metadata": {},
   "outputs": [
    {
     "data": {
      "text/plain": [
       "'Number 12 is even'"
      ]
     },
     "execution_count": 4,
     "metadata": {},
     "output_type": "execute_result"
    }
   ],
   "source": [
    "def check(n):\n",
    "    if n %2 == 0:\n",
    "        return f\"Number {n} is even\"\n",
    "    elif n %2 == 1:\n",
    "        return f\"Number {n} is odd\"\n",
    "    else:\n",
    "        return \"Enter proper value\"\n",
    "    \n",
    "num1 = int(input(\"Enter number:\"))\n",
    "check(num1)"
   ]
  },
  {
   "cell_type": "code",
   "execution_count": 5,
   "id": "48a1b6a1",
   "metadata": {},
   "outputs": [
    {
     "data": {
      "text/plain": [
       "'Number 15 is largest'"
      ]
     },
     "execution_count": 5,
     "metadata": {},
     "output_type": "execute_result"
    }
   ],
   "source": [
    "def largest(x,y,z):\n",
    "    if x > y and x > z:\n",
    "        return f\"Number {x} is largest\"\n",
    "    elif y > x and y > z:\n",
    "        return f\"Number {y} is largest\"\n",
    "    else:\n",
    "        return f\"Number {z} is largest\"\n",
    "    \n",
    "largest(10,15,3)"
   ]
  },
  {
   "cell_type": "code",
   "execution_count": 6,
   "id": "ebd330d5",
   "metadata": {},
   "outputs": [
    {
     "data": {
      "text/plain": [
       "1000.0"
      ]
     },
     "execution_count": 6,
     "metadata": {},
     "output_type": "execute_result"
    }
   ],
   "source": [
    "# Simple interest \n",
    "def simple(p,r,n):\n",
    "    return (p*r*n)/(100)\n",
    "simple(10000,5,2)"
   ]
  },
  {
   "cell_type": "code",
   "execution_count": 7,
   "id": "a0242b78",
   "metadata": {},
   "outputs": [
    {
     "name": "stdout",
     "output_type": "stream",
     "text": [
      "2 * 1 = 2\n",
      "2 * 2 = 4\n",
      "2 * 3 = 6\n",
      "2 * 4 = 8\n",
      "2 * 5 = 10\n",
      "2 * 6 = 12\n",
      "2 * 7 = 14\n",
      "2 * 8 = 16\n",
      "2 * 9 = 18\n",
      "2 * 10 = 20\n"
     ]
    }
   ],
   "source": [
    "#Print the multiplication table of a number.\n",
    "\n",
    "def table(n):\n",
    "    for i in range(1,11):\n",
    "        ans = i*n\n",
    "        print(f\"{n} * {i} = {ans}\")\n",
    "\n",
    "table(2)"
   ]
  },
  {
   "cell_type": "code",
   "execution_count": 8,
   "id": "264a6d44",
   "metadata": {},
   "outputs": [
    {
     "data": {
      "text/plain": [
       "120"
      ]
     },
     "execution_count": 8,
     "metadata": {},
     "output_type": "execute_result"
    }
   ],
   "source": [
    "#Calculate the factorial of a number.'\n",
    "def fact(n):\n",
    "    if n == 0:\n",
    "        return 1\n",
    "    else:\n",
    "        return n * fact(n-1)\n",
    "fact(5)"
   ]
  },
  {
   "cell_type": "code",
   "execution_count": 9,
   "id": "9fc79424",
   "metadata": {},
   "outputs": [
    {
     "data": {
      "text/plain": [
       "'Not prime'"
      ]
     },
     "execution_count": 9,
     "metadata": {},
     "output_type": "execute_result"
    }
   ],
   "source": [
    "#Check if a number is prime.\n",
    "def isprime(n):\n",
    "    for i in range(n//2 -1):\n",
    "        if n%2 == 0:\n",
    "            return\"Not prime\"\n",
    "        else:\n",
    "            return \"Prime\"\n",
    "        \n",
    "isprime(20)"
   ]
  },
  {
   "cell_type": "code",
   "execution_count": 10,
   "id": "badcf0a3",
   "metadata": {},
   "outputs": [
    {
     "name": "stdout",
     "output_type": "stream",
     "text": [
      "1 2 3 5 8 13 21 34 55 89 "
     ]
    }
   ],
   "source": [
    "#Print the Fibonacci series up to n terms.\n",
    "\n",
    "def fibo(n):\n",
    "    a ,b = 0,1\n",
    "    next = b\n",
    "    count =1\n",
    "    while count <= n :\n",
    "        print(next, end = \" \")\n",
    "        count += 1\n",
    "        a,b = b,next\n",
    "        next = a+b\n",
    "\n",
    "fibo(10)"
   ]
  },
  {
   "cell_type": "code",
   "execution_count": 11,
   "id": "fdb5d03a",
   "metadata": {},
   "outputs": [
    {
     "data": {
      "text/plain": [
       "811181"
      ]
     },
     "execution_count": 11,
     "metadata": {},
     "output_type": "execute_result"
    }
   ],
   "source": [
    "def square_digits(num):\n",
    "    digit = [int(d) for d in str(num)]\n",
    "    res_list=[]\n",
    "    for i in digit:\n",
    "        i*=i\n",
    "        res_list.append(i)\n",
    "    number = int(''.join(str(d) for d in res_list))\n",
    "    return number\n",
    "    \n",
    "square_digits(9119)"
   ]
  },
  {
   "cell_type": "code",
   "execution_count": 12,
   "id": "6c7a37c9",
   "metadata": {},
   "outputs": [
    {
     "data": {
      "text/plain": [
       "'Welcome Nirav, your age is 19'"
      ]
     },
     "execution_count": 12,
     "metadata": {},
     "output_type": "execute_result"
    }
   ],
   "source": [
    "# Create a Person class with attributes like name and age. Add a method to display their information.\n",
    "class Person:\n",
    "    def __init__(self,name,age):\n",
    "        self.name = name\n",
    "        self.age = age \n",
    "    def display(self):\n",
    "        return f\"Welcome {self.name}, your age is {self.age}\"\n",
    "    \n",
    "obj = Person('Nirav', 19)\n",
    "obj.display()\n"
   ]
  },
  {
   "cell_type": "code",
   "execution_count": 13,
   "id": "be541eed",
   "metadata": {},
   "outputs": [
    {
     "data": {
      "text/plain": [
       "'Hello Nirav,your age is 19, roll_no is 10 and marks are 99'"
      ]
     },
     "execution_count": 13,
     "metadata": {},
     "output_type": "execute_result"
    }
   ],
   "source": [
    "#Create a Student class that inherits from Person. Add attributes like roll_no and marks. Add a method to display full details.\n",
    "class Student(Person):\n",
    "    def __init__(self, name, age,roll_no,marks):\n",
    "        super().__init__(name, age)\n",
    "        self.marks= marks \n",
    "        self.roll_no = roll_no\n",
    "    def display(self):\n",
    "        return f\"Hello {self.name},your age is {self.age}, roll_no is {self.roll_no} and marks are {self.marks}\"\n",
    "obj = Student('Nirav', 19,10,99)\n",
    "obj.display()"
   ]
  },
  {
   "cell_type": "code",
   "execution_count": 14,
   "id": "8c77638d",
   "metadata": {},
   "outputs": [],
   "source": [
    "class Product:\n",
    "    def __init__(self, name, price, quantity, category):\n",
    "        self.name = name\n",
    "        self.price = price\n",
    "        self.quantity = quantity\n",
    "        self.category = category\n",
    "\n",
    "    def __str__(self):\n",
    "        return f\"Product: {self.name}, Price: ${self.price:.2f}, Quantity: {self.quantity}, Category: {self.category}\"\n",
    "\n",
    "class Category:\n",
    "    def __init__(self, name):\n",
    "        self.name = name\n",
    "        self.products = []\n",
    "\n",
    "    def add_product(self, product):\n",
    "        self.products.append(product)\n",
    "\n",
    "    def list_products(self):\n",
    "        if not self.products:\n",
    "            print(\"  No products in this category.\")\n",
    "        for product in self.products:\n",
    "            print(f\"  - {product}\")\n",
    "\n",
    "class InventoryManager:\n",
    "    def __init__(self):\n",
    "        self.inventory = {}\n",
    "\n",
    "    def add_category(self, category_name):\n",
    "        if category_name not in self.inventory:\n",
    "            self.inventory[category_name] = Category(category_name)\n",
    "\n",
    "    def add_product(self, name, price, quantity, category_name):\n",
    "        self.add_category(category_name)  # Ensure category exists\n",
    "        product = Product(name, price, quantity, category_name)\n",
    "        self.inventory[category_name].add_product(product)\n",
    "\n",
    "    def list_all_products(self):\n",
    "        if not self.inventory:\n",
    "            print(\"No categories in inventory.\")\n",
    "            return\n",
    "        for category in self.inventory.values():\n",
    "            print(f\"\\nCategory: {category.name}\")\n",
    "            category.list_products()\n",
    "\n",
    "    def search_product(self, name):\n",
    "        for category in self.inventory.values():\n",
    "            for product in category.products:  # Corrected loop variable and access\n",
    "                if product.name.lower() == name.lower():\n",
    "                    return product\n",
    "        return None\n",
    "\n",
    "    def update_stock(self, product_name, quantity_change):\n",
    "        product = self.search_product(product_name)\n",
    "        if product:\n",
    "            product.quantity += quantity_change\n",
    "            return True\n",
    "        return False"
   ]
  },
  {
   "cell_type": "code",
   "execution_count": 15,
   "id": "4ad3a01d",
   "metadata": {},
   "outputs": [
    {
     "name": "stdout",
     "output_type": "stream",
     "text": [
      "\n",
      "Category: Electronics\n",
      "  - Product: Laptop, Price: $999.99, Quantity: 10, Category: Electronics\n",
      "  - Product: Mouse, Price: $29.99, Quantity: 50, Category: Electronics\n",
      "\n",
      "Category: Clothing\n",
      "  - Product: T-Shirt, Price: $19.99, Quantity: 100, Category: Clothing\n",
      "\n",
      "Found: Product: Laptop, Price: $999.99, Quantity: 10, Category: Electronics\n",
      "\n",
      "Stock updated successfully.\n",
      "\n",
      "Category: Electronics\n",
      "  - Product: Laptop, Price: $999.99, Quantity: 8, Category: Electronics\n",
      "  - Product: Mouse, Price: $29.99, Quantity: 50, Category: Electronics\n",
      "\n",
      "Category: Clothing\n",
      "  - Product: T-Shirt, Price: $19.99, Quantity: 100, Category: Clothing\n"
     ]
    }
   ],
   "source": [
    "# Create an InventoryManager instance\n",
    "manager = InventoryManager()\n",
    "\n",
    "# Add some categories and products\n",
    "manager.add_product(\"Laptop\", 999.99, 10, \"Electronics\")\n",
    "manager.add_product(\"Mouse\", 29.99, 50, \"Electronics\")\n",
    "manager.add_product(\"T-Shirt\", 19.99, 100, \"Clothing\")\n",
    "\n",
    "# List all products\n",
    "manager.list_all_products()\n",
    "\n",
    "# Search for a product\n",
    "product = manager.search_product(\"laptop\")\n",
    "if product:\n",
    "    print(f\"\\nFound: {product}\")\n",
    "\n",
    "# Update stock\n",
    "if manager.update_stock(\"Laptop\", -2):\n",
    "    print(\"\\nStock updated successfully.\")\n",
    "    manager.list_all_products()"
   ]
  },
  {
   "cell_type": "code",
   "execution_count": 16,
   "id": "fa601ce8",
   "metadata": {},
   "outputs": [],
   "source": [
    "import numpy as np\n"
   ]
  },
  {
   "cell_type": "code",
   "execution_count": 17,
   "id": "4d1ee25c",
   "metadata": {},
   "outputs": [
    {
     "data": {
      "text/plain": [
       "array([1., 1., 1., 1., 1.])"
      ]
     },
     "execution_count": 17,
     "metadata": {},
     "output_type": "execute_result"
    }
   ],
   "source": [
    "ar1 = np.ones(5)\n",
    "ar1"
   ]
  },
  {
   "cell_type": "code",
   "execution_count": 18,
   "id": "0ac03c76",
   "metadata": {},
   "outputs": [
    {
     "data": {
      "text/plain": [
       "array([0, 0, 0, 0, 0])"
      ]
     },
     "execution_count": 18,
     "metadata": {},
     "output_type": "execute_result"
    }
   ],
   "source": [
    "arr1  = np.zeros(5).astype(int)\n",
    "arr1"
   ]
  },
  {
   "cell_type": "code",
   "execution_count": 19,
   "id": "f2b04d9b",
   "metadata": {},
   "outputs": [
    {
     "data": {
      "text/plain": [
       "array([[0., 0., 0., 0., 0.],\n",
       "       [0., 0., 0., 0., 0.],\n",
       "       [0., 0., 0., 0., 0.]])"
      ]
     },
     "execution_count": 19,
     "metadata": {},
     "output_type": "execute_result"
    }
   ],
   "source": [
    "arr1 = np.zeros((3,5))\n",
    "arr1"
   ]
  },
  {
   "cell_type": "code",
   "execution_count": 20,
   "id": "01120d1e",
   "metadata": {},
   "outputs": [
    {
     "data": {
      "text/plain": [
       "array([ 0.        ,  0.71428571,  1.42857143,  2.14285714,  2.85714286,\n",
       "        3.57142857,  4.28571429,  5.        ,  5.71428571,  6.42857143,\n",
       "        7.14285714,  7.85714286,  8.57142857,  9.28571429, 10.        ])"
      ]
     },
     "execution_count": 20,
     "metadata": {},
     "output_type": "execute_result"
    }
   ],
   "source": [
    "arr1 = np.linspace(0,10,15)\n",
    "arr1"
   ]
  },
  {
   "cell_type": "code",
   "execution_count": 21,
   "id": "30d96ef3",
   "metadata": {},
   "outputs": [
    {
     "data": {
      "text/plain": [
       "array([[1., 0., 0.],\n",
       "       [0., 1., 0.],\n",
       "       [0., 0., 1.]])"
      ]
     },
     "execution_count": 21,
     "metadata": {},
     "output_type": "execute_result"
    }
   ],
   "source": [
    "arr1 = np.eye(3)\n",
    "arr1"
   ]
  },
  {
   "cell_type": "code",
   "execution_count": 22,
   "id": "2ff74d59",
   "metadata": {},
   "outputs": [
    {
     "data": {
      "text/plain": [
       "array([1, 2, 3, 4])"
      ]
     },
     "execution_count": 22,
     "metadata": {},
     "output_type": "execute_result"
    }
   ],
   "source": [
    "arr = np.array([[1,2],[3,4]])\n",
    "arr1 = arr.flatten()\n",
    "arr1"
   ]
  },
  {
   "cell_type": "code",
   "execution_count": 32,
   "id": "62847fc6",
   "metadata": {},
   "outputs": [
    {
     "name": "stdout",
     "output_type": "stream",
     "text": [
      "2.00\n",
      "Excecution Completed \n"
     ]
    }
   ],
   "source": [
    "try:\n",
    "    x = 10 /5\n",
    "except Exception as e:\n",
    "    print(e)\n",
    "else:\n",
    "    print(f'{x:.2f}')\n",
    "finally:\n",
    "    print(\"Excecution Completed \")"
   ]
  },
  {
   "cell_type": "code",
   "execution_count": null,
   "id": "bfbd761d",
   "metadata": {},
   "outputs": [],
   "source": [
    "\n",
    "\n",
    "\n"
   ]
  }
 ],
 "metadata": {
  "kernelspec": {
   "display_name": "venv",
   "language": "python",
   "name": "python3"
  },
  "language_info": {
   "codemirror_mode": {
    "name": "ipython",
    "version": 3
   },
   "file_extension": ".py",
   "mimetype": "text/x-python",
   "name": "python",
   "nbconvert_exporter": "python",
   "pygments_lexer": "ipython3",
   "version": "3.13.4"
  }
 },
 "nbformat": 4,
 "nbformat_minor": 5
}
