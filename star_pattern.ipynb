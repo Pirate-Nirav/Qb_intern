{
 "cells": [
  {
   "cell_type": "markdown",
   "id": "ece1ad4b",
   "metadata": {},
   "source": [
    "Let's understand the logic behind the star pattern. We can break it down to small pieces so that it will be easy to understand first of all we should know about the python loop and the nested loop which i use to print the pattern The outer loop is for row and the inner loop is for column\n"
   ]
  },
  {
   "cell_type": "code",
   "execution_count": 17,
   "id": "aead1f44",
   "metadata": {},
   "outputs": [
    {
     "name": "stdout",
     "output_type": "stream",
     "text": [
      "*  *  *  *  *  \n",
      "*  *  *  *  *  \n",
      "*  *  *  *  *  \n",
      "*  *  *  *  *  \n",
      "*  *  *  *  *  \n"
     ]
    }
   ],
   "source": [
    "n=5\n",
    "for i in range(n):\n",
    "    for j in range(n):\n",
    "        print(\"*\",end=\"  \") #the end =\"\" make the pattern in horizontal line otherwise it will be vertical\n",
    "    print() # to make the new line other wiser it will print it continuously\n"
   ]
  },
  {
   "cell_type": "code",
   "execution_count": 18,
   "id": "19d94dda",
   "metadata": {},
   "outputs": [
    {
     "name": "stdout",
     "output_type": "stream",
     "text": [
      "*  \n",
      "*  *  \n",
      "*  *  *  \n",
      "*  *  *  *  \n",
      "*  *  *  *  *  \n"
     ]
    }
   ],
   "source": [
    "for i in range(n):\n",
    "    for j in range(i+1):\n",
    "        print(\"*\",end=\"  \")\n",
    "    print()"
   ]
  },
  {
   "cell_type": "code",
   "execution_count": 19,
   "id": "fe3df42a",
   "metadata": {},
   "outputs": [
    {
     "name": "stdout",
     "output_type": "stream",
     "text": [
      "*  *  *  *  *  \n",
      "*  *  *  *  \n",
      "*  *  *  \n",
      "*  *  \n",
      "*  \n"
     ]
    }
   ],
   "source": [
    "for i in range(n):\n",
    "    for j in range(i,n):\n",
    "        print(\"*\",end=\"  \")\n",
    "    print()\n"
   ]
  },
  {
   "cell_type": "code",
   "execution_count": 20,
   "id": "8e131606",
   "metadata": {},
   "outputs": [
    {
     "name": "stdout",
     "output_type": "stream",
     "text": [
      "               *  \n",
      "            *  *  \n",
      "         *  *  *  \n",
      "      *  *  *  *  \n",
      "   *  *  *  *  *  \n"
     ]
    }
   ],
   "source": [
    "for i in range(n):\n",
    "    for j in range(i,n):\n",
    "        print(\" \",end=\"  \")\n",
    "    for j in range(i+1):\n",
    "        print(\"*\",end=\"  \")\n",
    "    print()"
   ]
  },
  {
   "cell_type": "code",
   "execution_count": 21,
   "id": "8e4becb6",
   "metadata": {},
   "outputs": [
    {
     "name": "stdout",
     "output_type": "stream",
     "text": [
      "   *  *  *  *  *  \n",
      "      *  *  *  *  \n",
      "         *  *  *  \n",
      "            *  *  \n",
      "               *  \n"
     ]
    }
   ],
   "source": [
    "for i in range(n):\n",
    "    for j in range(i+1):\n",
    "        print(\" \",end=\"  \")\n",
    "    for j in range(i,n):\n",
    "        print(\"*\",end=\"  \")\n",
    "    print()\n"
   ]
  },
  {
   "cell_type": "code",
   "execution_count": 22,
   "id": "7352a4ad",
   "metadata": {},
   "outputs": [
    {
     "name": "stdout",
     "output_type": "stream",
     "text": [
      "               *                 \n",
      "            *  *  *              \n",
      "         *  *  *  *  *           \n",
      "      *  *  *  *  *  *  *        \n",
      "   *  *  *  *  *  *  *  *  *     \n"
     ]
    }
   ],
   "source": [
    "for i in range(n):\n",
    "    for j in range(i,n):\n",
    "        print(\" \",end=\"  \")\n",
    "\n",
    "    for j in range(i +1):\n",
    "        print(\"*\",end=\"  \")\n",
    "    for j in range(i):\n",
    "        print(\"*\",end=\"  \")\n",
    "\n",
    "    for j in range(i,n):\n",
    "        print(\" \",end=\"  \")\n",
    "    print()\n"
   ]
  },
  {
   "cell_type": "code",
   "execution_count": 23,
   "id": "39487fd9",
   "metadata": {},
   "outputs": [
    {
     "name": "stdout",
     "output_type": "stream",
     "text": [
      "\n",
      "\n",
      "   *  *  *  *  *  *  *  *  *  \n",
      "      *  *  *  *  *  *  *  \n",
      "         *  *  *  *  *  \n",
      "            *  *  *  \n",
      "               *  \n"
     ]
    }
   ],
   "source": [
    "print(\"\\n\")\n",
    "for i in range(n):\n",
    "    for j in range(i+1):\n",
    "       print(\" \", end=\"  \") \n",
    "    for j in range(i,n):\n",
    "        print(\"*\", end=\"  \")\n",
    "    for j in range(i,n-1):\n",
    "        print(\"*\",end=\"  \")\n",
    "    print()"
   ]
  },
  {
   "cell_type": "code",
   "execution_count": 24,
   "id": "f3621921",
   "metadata": {},
   "outputs": [
    {
     "name": "stdout",
     "output_type": "stream",
     "text": [
      "               *  \n",
      "            *  *  *  \n",
      "         *  *  *  *  *  \n",
      "      *  *  *  *  *  *  *  \n",
      "   *  *  *  *  *  *  *  *  *  \n",
      "      *  *  *  *  *  *  *  \n",
      "         *  *  *  *  *  \n",
      "            *  *  *  \n",
      "               *  \n"
     ]
    }
   ],
   "source": [
    "for i in range(n-1):\n",
    "    for j in range(i,n):\n",
    "        print(\" \",end=\"  \")\n",
    "\n",
    "    for j in range(i+1):\n",
    "        print(\"*\",end=\"  \")\n",
    "    for j in range(i):\n",
    "        print(\"*\",end=\"  \")\n",
    "    print()\n",
    "for i in range(n):\n",
    "    for j in range(i+1):\n",
    "       print(\" \", end=\"  \") \n",
    "    for j in range(i,n):\n",
    "        print(\"*\", end=\"  \")\n",
    "    for j in range(i,n-1):\n",
    "        print(\"*\",end=\"  \")\n",
    "    print()"
   ]
  },
  {
   "cell_type": "code",
   "execution_count": 31,
   "id": "47db0f78",
   "metadata": {},
   "outputs": [
    {
     "name": "stdout",
     "output_type": "stream",
     "text": [
      "               *  \n",
      "            *  *  *  \n",
      "         *  *  *  *  *  \n",
      "      *  *  *  *  *  *  *  \n",
      "   *  *  *  *  *  *  *  *  *  \n"
     ]
    }
   ],
   "source": [
    "for i in range(n):\n",
    "    for j in range(i,n):\n",
    "        print(\" \", end = \"  \")\n",
    "    for j in range(i):\n",
    "        print(\"*\", end =\"  \")\n",
    "    for j in range(i+1):\n",
    "        print(\"*\", end =\"  \")\n",
    "    \n",
    "    print()"
   ]
  },
  {
   "cell_type": "code",
   "execution_count": null,
   "id": "0c8cbdfe",
   "metadata": {},
   "outputs": [],
   "source": []
  }
 ],
 "metadata": {
  "kernelspec": {
   "display_name": "venv",
   "language": "python",
   "name": "python3"
  },
  "language_info": {
   "codemirror_mode": {
    "name": "ipython",
    "version": 3
   },
   "file_extension": ".py",
   "mimetype": "text/x-python",
   "name": "python",
   "nbconvert_exporter": "python",
   "pygments_lexer": "ipython3",
   "version": "3.13.4"
  }
 },
 "nbformat": 4,
 "nbformat_minor": 5
}
