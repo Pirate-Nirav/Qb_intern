{
 "cells": [
  {
   "cell_type": "code",
   "execution_count": null,
   "id": "1f037464",
   "metadata": {},
   "outputs": [
    {
     "name": "stdout",
     "output_type": "stream",
     "text": [
      "[55, 90, 23, 67, 45, 98, 12, 87, 34]\n"
     ]
    }
   ],
   "source": [
    "list1 = [34, 87, 12, 98, 45, 67, 23, 90, 55]\n",
    "a,b = 0, len(list1)-1\n",
    "for i in range(int(len(list1)/2)):\n",
    "    list1[a], list1[b] = list1[b], list1[a]\n",
    "    a +=1\n",
    "    b -= 1\n",
    "print(list1)\n",
    "\n"
   ]
  },
  {
   "cell_type": "code",
   "execution_count": 24,
   "id": "5016ad1b",
   "metadata": {},
   "outputs": [
    {
     "name": "stdout",
     "output_type": "stream",
     "text": [
      "[98, 90, 87, 67, 55, 45, 34, 23, 12]\n"
     ]
    }
   ],
   "source": [
    "for i in range(len(list1)):\n",
    "    for j in range(len(list1)):\n",
    "        if list1[i] > list1[j]:\n",
    "            list1[i], list1[j] = list1[j] , list1[i]\n",
    "print(list1)"
   ]
  }
 ],
 "metadata": {
  "kernelspec": {
   "display_name": "venv",
   "language": "python",
   "name": "python3"
  },
  "language_info": {
   "codemirror_mode": {
    "name": "ipython",
    "version": 3
   },
   "file_extension": ".py",
   "mimetype": "text/x-python",
   "name": "python",
   "nbconvert_exporter": "python",
   "pygments_lexer": "ipython3",
   "version": "3.13.4"
  }
 },
 "nbformat": 4,
 "nbformat_minor": 5
}
