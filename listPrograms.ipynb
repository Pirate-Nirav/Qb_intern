{
 "cells": [
  {
   "cell_type": "code",
   "execution_count": 1,
   "id": "850886e3",
   "metadata": {},
   "outputs": [],
   "source": [
    "list1 = [10,6,-8,-7,0,5,4,8,99,102,57,0,5,99]"
   ]
  },
  {
   "cell_type": "code",
   "execution_count": 2,
   "id": "e46fb123",
   "metadata": {},
   "outputs": [
    {
     "name": "stdout",
     "output_type": "stream",
     "text": [
      "Before swapping first and last element\n",
      "[1, 2, 3, 4, 5, 6]\n",
      "After swapping the elemnets: [6, 2, 3, 4, 5, 1]\n"
     ]
    }
   ],
   "source": [
    "#Interchanging first and last element in a list means [1,2,3,4,5,6] it will become [6,2,3,4,5,1]\n",
    "#so the first value will go to at the place of last item\n",
    "l1 = [1,2,3,4,5,6]\n",
    "n= len(l1)\n",
    "print(\"Before swapping first and last element\")\n",
    "print(l1)\n",
    "if len(l1)>= 2:\n",
    "    l1[0],l1[-1] = l1[-1],l1[0]\n",
    "elif len(l1)  == 1:\n",
    "    print(\"List have only one element\")\n",
    "else:\n",
    "    print(\"List have less elements\")\n",
    "print(\"After swapping the elemnets:\",l1)"
   ]
  },
  {
   "cell_type": "code",
   "execution_count": 3,
   "id": "0d200bfd",
   "metadata": {},
   "outputs": [
    {
     "name": "stdout",
     "output_type": "stream",
     "text": [
      "[10, 6, -8, -7, 0, 5, 4, 8, 99, 102, 57, 0, 5, 99]  this is the list before swapping the two elements\n",
      "After swapping the first and last element [0, 6, -8, -7, 10, 5, 4, 8, 99, 102, 57, 0, 5, 99]\n"
     ]
    }
   ],
   "source": [
    "# Python program to swap two elements in a list\n",
    "\n",
    "print(list1,\" this is the list before swapping the two elements\")\n",
    "a = 10\n",
    "b = 0\n",
    "\n",
    "if a in list1 and b in list1:\n",
    "    i = list1.index(a)\n",
    "    j = list1.index(b)\n",
    "    list1[i], list1[j] = list1[j], list1[i]\n",
    "    print(\"After swapping the first and last element\",list1)\n",
    "else:\n",
    "    print(\"Element not in the list\")"
   ]
  },
  {
   "cell_type": "code",
   "execution_count": 4,
   "id": "bd976b3d",
   "metadata": {},
   "outputs": [
    {
     "name": "stdout",
     "output_type": "stream",
     "text": [
      "Reversed list is : [99, 5, 0, 57, 102, 99, 8, 4, 5, 0, -7, -8, 6, 10]\n"
     ]
    }
   ],
   "source": [
    "# Reverse the list without using any method\n",
    "list1 = [10,6,-8,-7,0,5,4,8,99,102,57,0,5,99]\n",
    "a,b = 0 , len(list1)-1\n",
    "for i in range(len(list1) //2 ):\n",
    "    list1[a],list1[b] = list1[b],list1[a]\n",
    "    a += 1\n",
    "    b -= 1\n",
    "\n",
    "print(\"Reversed list is :\", list1)"
   ]
  },
  {
   "cell_type": "code",
   "execution_count": 5,
   "id": "542470d8",
   "metadata": {},
   "outputs": [
    {
     "name": "stdout",
     "output_type": "stream",
     "text": [
      "21\n"
     ]
    }
   ],
   "source": [
    "# Python program to find sum of elements in list\t\n",
    "list1= [1,2,3,4,5,6]\n",
    "total  =0\n",
    "for i in list1:\n",
    "    total += i\n",
    "\n",
    "print(total)"
   ]
  },
  {
   "cell_type": "code",
   "execution_count": null,
   "id": "ca952dea",
   "metadata": {},
   "outputs": [],
   "source": []
  },
  {
   "cell_type": "code",
   "execution_count": 6,
   "id": "07f20ab1",
   "metadata": {},
   "outputs": [
    {
     "name": "stdout",
     "output_type": "stream",
     "text": [
      "720\n"
     ]
    }
   ],
   "source": [
    "# Python | Multiply all numbers in the list\n",
    "list1= [1,2,3,4,5,6]\n",
    "total  =1\n",
    "for i in list1:\n",
    "    total *= i\n",
    "\n",
    "print(total)"
   ]
  },
  {
   "cell_type": "code",
   "execution_count": 7,
   "id": "eeefdefa",
   "metadata": {},
   "outputs": [
    {
     "ename": "_IncompleteInputError",
     "evalue": "incomplete input (2096974921.py, line 12)",
     "output_type": "error",
     "traceback": [
      "  \u001b[36mCell\u001b[39m\u001b[36m \u001b[39m\u001b[32mIn[7]\u001b[39m\u001b[32m, line 12\u001b[39m\n\u001b[31m    \u001b[39m\n    ^\n\u001b[31m_IncompleteInputError\u001b[39m\u001b[31m:\u001b[39m incomplete input\n"
     ]
    }
   ],
   "source": [
    "# Doing the sum of the nested list\n",
    "nested_list = [\n",
    "    [1, 2, 3],\n",
    "    [4, 5, 6],\n",
    "    [7, 8, 9],\n",
    "    [10, 11, 12],\n",
    "    [13, 14, 15]\n",
    "]\n",
    "total = 0\n",
    "\n",
    "for i in list:\n",
    "\n"
   ]
  }
 ],
 "metadata": {
  "kernelspec": {
   "display_name": "venv",
   "language": "python",
   "name": "python3"
  },
  "language_info": {
   "codemirror_mode": {
    "name": "ipython",
    "version": 3
   },
   "file_extension": ".py",
   "mimetype": "text/x-python",
   "name": "python",
   "nbconvert_exporter": "python",
   "pygments_lexer": "ipython3",
   "version": "3.13.4"
  }
 },
 "nbformat": 4,
 "nbformat_minor": 5
}
